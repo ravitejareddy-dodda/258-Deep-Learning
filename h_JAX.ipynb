{
  "nbformat": 4,
  "nbformat_minor": 0,
  "metadata": {
    "colab": {
      "provenance": []
    },
    "kernelspec": {
      "name": "python3",
      "display_name": "Python 3"
    },
    "language_info": {
      "name": "python"
    }
  },
  "cells": [
    {
      "cell_type": "code",
      "execution_count": 18,
      "metadata": {
        "id": "66j-RixTHVzL"
      },
      "outputs": [],
      "source": [
        "import jax.numpy as jnp\n",
        "from jax import grad, jit, vmap\n",
        "from jax import random\n",
        "\n",
        "from sklearn.datasets import load_iris\n",
        "from sklearn.model_selection import train_test_split\n"
      ]
    },
    {
      "cell_type": "code",
      "source": [
        "# Load Iris dataset\n",
        "iris = load_iris()\n",
        "X, y = iris.data, iris.target\n"
      ],
      "metadata": {
        "id": "XaWJ2q3eRMU_"
      },
      "execution_count": 19,
      "outputs": []
    },
    {
      "cell_type": "code",
      "source": [
        "# One-hot encode target labels\n",
        "y = jnp.eye(3)[y]"
      ],
      "metadata": {
        "id": "0-YY4vDURPHW"
      },
      "execution_count": 20,
      "outputs": []
    },
    {
      "cell_type": "code",
      "source": [
        "def init_network_params(rng):\n",
        "    \"\"\"Initialize the network parameters.\"\"\"\n",
        "    W1 = jnp.array(random.normal(rng, (4, 16)))\n",
        "    b1 = jnp.zeros(16)\n",
        "    W2 = jnp.array(random.normal(rng, (16, 3)))\n",
        "    b2 = jnp.zeros(3)\n",
        "    return (W1, b1, W2, b2)\n",
        "\n",
        "def predict(params, x):\n",
        "   \n",
        "    W1, b1, W2, b2 = params\n",
        "    hidden = jnp.dot(x, W1) + b1\n",
        "    hidden = jnp.maximum(0, hidden)  # ReLU activation\n",
        "    output = jnp.dot(hidden, W2) + b2\n",
        "    return output"
      ],
      "metadata": {
        "id": "RoXc1I3rRRwM"
      },
      "execution_count": 21,
      "outputs": []
    },
    {
      "cell_type": "code",
      "source": [
        "def mse_loss(params, x, y):\n",
        "\n",
        "    predictions = predict(params, x)\n",
        "    return jnp.mean(jnp.sum((predictions - y)**2, axis=1))"
      ],
      "metadata": {
        "id": "jGV6Q6v2SjYp"
      },
      "execution_count": 22,
      "outputs": []
    },
    {
      "cell_type": "code",
      "source": [
        "def train_network(rng, X_train, y_train, X_test, y_test, learning_rate=0.01, num_epochs=1000):\n",
        "    \"\"\"Train the network on the given training data.\"\"\"\n",
        "    # Initialize network parameters and optimizer\n",
        "    params = init_network_params(rng)\n",
        "    opt_init, opt_update, get_params = optimizers.adam(learning_rate)\n",
        "    opt_state = opt_init(params)\n",
        "\n",
        "    # Define the loss function and its gradients\n",
        "    loss = jit(mse_loss)\n",
        "    grad_loss = jit(grad(mse_loss))\n",
        "\n",
        "    # Define the training and evaluation functions\n",
        "    @jit\n",
        "    def train_step(params, x, y, opt_state):\n",
        "        \"\"\"Perform a single training step on a mini-batch of data.\"\"\""
      ],
      "metadata": {
        "id": "SkWw6_mYRUxD"
      },
      "execution_count": 27,
      "outputs": []
    },
    {
      "cell_type": "code",
      "source": [
        "!pip install --upgrade jax jaxlib"
      ],
      "metadata": {
        "colab": {
          "base_uri": "https://localhost:8080/"
        },
        "id": "ueYeUM7SRlCo",
        "outputId": "94ed67e2-08e5-4567-a1d7-ba4869556874"
      },
      "execution_count": 28,
      "outputs": [
        {
          "output_type": "stream",
          "name": "stdout",
          "text": [
            "Looking in indexes: https://pypi.org/simple, https://us-python.pkg.dev/colab-wheels/public/simple/\n",
            "Requirement already satisfied: jax in /usr/local/lib/python3.9/dist-packages (0.4.5)\n",
            "Requirement already satisfied: jaxlib in /usr/local/lib/python3.9/dist-packages (0.4.4+cuda11.cudnn82)\n",
            "Requirement already satisfied: scipy>=1.5 in /usr/local/lib/python3.9/dist-packages (from jax) (1.10.1)\n",
            "Requirement already satisfied: numpy>=1.20 in /usr/local/lib/python3.9/dist-packages (from jax) (1.22.4)\n",
            "Requirement already satisfied: opt-einsum in /usr/local/lib/python3.9/dist-packages (from jax) (3.3.0)\n"
          ]
        }
      ]
    }
  ]
}